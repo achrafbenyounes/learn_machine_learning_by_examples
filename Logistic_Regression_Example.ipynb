{
  "nbformat": 4,
  "nbformat_minor": 0,
  "metadata": {
    "colab": {
      "name": "Logistic Regression Example.ipynb",
      "provenance": [],
      "authorship_tag": "ABX9TyPvgXnWt00ZrxSFj3gb/Pat",
      "include_colab_link": true
    },
    "kernelspec": {
      "name": "python3",
      "display_name": "Python 3"
    }
  },
  "cells": [
    {
      "cell_type": "markdown",
      "metadata": {
        "id": "view-in-github",
        "colab_type": "text"
      },
      "source": [
        "<a href=\"https://colab.research.google.com/github/achrafbenyounes/learn_machine_learning_by_examples/blob/master/Logistic_Regression_Example.ipynb\" target=\"_parent\"><img src=\"https://colab.research.google.com/assets/colab-badge.svg\" alt=\"Open In Colab\"/></a>"
      ]
    },
    {
      "cell_type": "code",
      "metadata": {
        "id": "hl9vRDzYMoMF",
        "colab_type": "code",
        "colab": {}
      },
      "source": [
        ""
      ],
      "execution_count": 0,
      "outputs": []
    },
    {
      "cell_type": "markdown",
      "metadata": {
        "id": "a4MdKBUuM1Cm",
        "colab_type": "text"
      },
      "source": [
        "\n",
        "This notebook aims to analyse the iris flower data set and do some classifications of flowers sample based on some input attributes (length, width of peatls for example). We'll use a dataset existing in sklearn library*\n",
        "\n",
        "Exist 3 species of Iris flower:\n",
        "\n",
        "*   iris setosa\n",
        "*   iris versicolor\n",
        "*   iris verginica\n",
        "\n",
        "![Texte alternatif…](https://thegoodpython.com/assets/images/iris-species.png)\n",
        "\n",
        "\n",
        "As said before, the classification of these 3 species are based on sepal (length and width) and on petal (length and width), please have a look in the table below:\n",
        "\n",
        "\n",
        "![Texte alternatif…](https://annhubhelp.anscenter.com/lib/NewItem168.png)"
      ]
    },
    {
      "cell_type": "code",
      "metadata": {
        "id": "vC8lTXiONeE2",
        "colab_type": "code",
        "colab": {}
      },
      "source": [
        ""
      ],
      "execution_count": 0,
      "outputs": []
    }
  ]
}