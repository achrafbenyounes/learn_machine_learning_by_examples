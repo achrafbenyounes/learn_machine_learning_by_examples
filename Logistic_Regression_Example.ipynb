{
  "nbformat": 4,
  "nbformat_minor": 0,
  "metadata": {
    "colab": {
      "name": "Logistic Regression Example.ipynb",
      "provenance": [],
      "authorship_tag": "ABX9TyMtZNfxqI47L7bW07263nmP",
      "include_colab_link": true
    },
    "kernelspec": {
      "name": "python3",
      "display_name": "Python 3"
    }
  },
  "cells": [
    {
      "cell_type": "markdown",
      "metadata": {
        "id": "view-in-github",
        "colab_type": "text"
      },
      "source": [
        "<a href=\"https://colab.research.google.com/github/achrafbenyounes/learn_machine_learning_by_examples/blob/master/Logistic_Regression_Example.ipynb\" target=\"_parent\"><img src=\"https://colab.research.google.com/assets/colab-badge.svg\" alt=\"Open In Colab\"/></a>"
      ]
    },
    {
      "cell_type": "code",
      "metadata": {
        "id": "hl9vRDzYMoMF",
        "colab_type": "code",
        "colab": {}
      },
      "source": [
        ""
      ],
      "execution_count": 0,
      "outputs": []
    },
    {
      "cell_type": "markdown",
      "metadata": {
        "id": "a4MdKBUuM1Cm",
        "colab_type": "text"
      },
      "source": [
        "\n",
        "This notebook aims to analyse the iris flower data set and do some classifications of flowers sample based on some input attributes (length, width of peatls for example). We'll use a dataset existing in sklearn library*\n",
        "\n",
        "Exist 3 species of Iris flower:\n",
        "\n",
        "*   iris setosa\n",
        "*   iris versicolor\n",
        "*   iris verginica\n",
        "\n",
        "![Texte alternatif…](https://thegoodpython.com/assets/images/iris-species.png)\n",
        "\n",
        "\n",
        "As said before, the classification of these 3 species are based on sepal (length and width) and on petal (length and width), please have a look in the table below:\n",
        "\n",
        "\n",
        "![Texte alternatif…](https://annhubhelp.anscenter.com/lib/NewItem168.png)"
      ]
    },
    {
      "cell_type": "code",
      "metadata": {
        "id": "vC8lTXiONeE2",
        "colab_type": "code",
        "colab": {}
      },
      "source": [
        "# Import the necessary librairies needed for logistic regression model\n",
        "\n",
        "from sklearn import datasets # This machine learning librairy contains the iris datset\n",
        "\n",
        "import matplotlib.pyplot as plt # This librairy is responsible for data visualisation\n",
        "\n",
        "import math # This library aims to do some data transformations to a standarized data\n",
        "\n",
        "# No need to install any software in your local machine because we run this from google collab which is a host cloud service for datascience and machine learning field"
      ],
      "execution_count": 0,
      "outputs": []
    },
    {
      "cell_type": "code",
      "metadata": {
        "id": "3GCBzrA3Vroq",
        "colab_type": "code",
        "colab": {}
      },
      "source": [
        "# Load data : we load it directly from the datasets module built-in in sklearn librairy : so no need to use pandas in our case\n",
        "\n",
        "iris = datasets.load_iris()\n",
        "\n",
        "# To describe our dataset, just run this commande :\n",
        "\n",
        "print(iris.DESCR)\n",
        "# The iris database contains 150 instances of iris flower (50 in each of three classes)\n",
        "\n"
      ],
      "execution_count": 0,
      "outputs": []
    }
  ]
}