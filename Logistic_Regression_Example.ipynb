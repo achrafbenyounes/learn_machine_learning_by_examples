{
  "nbformat": 4,
  "nbformat_minor": 0,
  "metadata": {
    "colab": {
      "name": "Logistic Regression Example.ipynb",
      "provenance": [],
      "authorship_tag": "ABX9TyNoi7fgDoCCfOMpVL0tT2eK",
      "include_colab_link": true
    },
    "kernelspec": {
      "name": "python3",
      "display_name": "Python 3"
    }
  },
  "cells": [
    {
      "cell_type": "markdown",
      "metadata": {
        "id": "view-in-github",
        "colab_type": "text"
      },
      "source": [
        "<a href=\"https://colab.research.google.com/github/achrafbenyounes/learn_machine_learning_by_examples/blob/master/Logistic_Regression_Example.ipynb\" target=\"_parent\"><img src=\"https://colab.research.google.com/assets/colab-badge.svg\" alt=\"Open In Colab\"/></a>"
      ]
    },
    {
      "cell_type": "code",
      "metadata": {
        "id": "hl9vRDzYMoMF",
        "colab_type": "code",
        "colab": {}
      },
      "source": [
        ""
      ],
      "execution_count": 0,
      "outputs": []
    },
    {
      "cell_type": "markdown",
      "metadata": {
        "id": "a4MdKBUuM1Cm",
        "colab_type": "text"
      },
      "source": [
        "\n",
        "This notebook aims to analyse the iris flower data set and do some classifications of flowers sample based on some input attributes (length, width of peatls for example). We'll use a dataset existing in sklearn library*\n",
        "\n",
        "Exist 3 species of Iris flower:\n",
        "\n",
        "*   iris setosa\n",
        "*   iris versicolor\n",
        "*   iris verginica\n",
        "\n",
        "![Texte alternatif…](https://thegoodpython.com/assets/images/iris-species.png)\n",
        "\n",
        "\n",
        "As said before, the classification of these 3 species are based on sepal (length and width) and on petal (length and width), please have a look in the table below:\n",
        "\n",
        "\n",
        "![Texte alternatif…](https://annhubhelp.anscenter.com/lib/NewItem168.png)"
      ]
    },
    {
      "cell_type": "code",
      "metadata": {
        "id": "vC8lTXiONeE2",
        "colab_type": "code",
        "colab": {}
      },
      "source": [
        "# Import the necessary librairies needed for logistic regression model\n",
        "from sklearn import datasets # This machine learning librairy contains the iris datset, there is another alternative to do that by using tensorflow library and use the kaggle site which contains multiple datasets\n",
        "import matplotlib.pyplot as plt # This librairy is responsible for data visualisation\n",
        "import math # This library aims to do some data transformations to a standarized data\n",
        "\n",
        "# No need to install any software in your local machine because we run this from google collab which is a host cloud service for datascience and machine learning field"
      ],
      "execution_count": 0,
      "outputs": []
    },
    {
      "cell_type": "code",
      "metadata": {
        "id": "3GCBzrA3Vroq",
        "colab_type": "code",
        "colab": {
          "base_uri": "https://localhost:8080/",
          "height": 1000
        },
        "outputId": "3ce39eb8-1f7c-48af-dc65-0d1592829f16"
      },
      "source": [
        "# Load data : we load it directly from the datasets module built-in in sklearn librairy : so no need to use pandas in our case\n",
        "iris = datasets.load_iris()\n",
        "# To describe our dataset, just run this commande :\n",
        "print(iris.DESCR)\n",
        "# The iris database contains 150 instances of iris flower (50 in each of three classes)\n"
      ],
      "execution_count": 5,
      "outputs": [
        {
          "output_type": "stream",
          "text": [
            ".. _iris_dataset:\n",
            "\n",
            "Iris plants dataset\n",
            "--------------------\n",
            "\n",
            "**Data Set Characteristics:**\n",
            "\n",
            "    :Number of Instances: 150 (50 in each of three classes)\n",
            "    :Number of Attributes: 4 numeric, predictive attributes and the class\n",
            "    :Attribute Information:\n",
            "        - sepal length in cm\n",
            "        - sepal width in cm\n",
            "        - petal length in cm\n",
            "        - petal width in cm\n",
            "        - class:\n",
            "                - Iris-Setosa\n",
            "                - Iris-Versicolour\n",
            "                - Iris-Virginica\n",
            "                \n",
            "    :Summary Statistics:\n",
            "\n",
            "    ============== ==== ==== ======= ===== ====================\n",
            "                    Min  Max   Mean    SD   Class Correlation\n",
            "    ============== ==== ==== ======= ===== ====================\n",
            "    sepal length:   4.3  7.9   5.84   0.83    0.7826\n",
            "    sepal width:    2.0  4.4   3.05   0.43   -0.4194\n",
            "    petal length:   1.0  6.9   3.76   1.76    0.9490  (high!)\n",
            "    petal width:    0.1  2.5   1.20   0.76    0.9565  (high!)\n",
            "    ============== ==== ==== ======= ===== ====================\n",
            "\n",
            "    :Missing Attribute Values: None\n",
            "    :Class Distribution: 33.3% for each of 3 classes.\n",
            "    :Creator: R.A. Fisher\n",
            "    :Donor: Michael Marshall (MARSHALL%PLU@io.arc.nasa.gov)\n",
            "    :Date: July, 1988\n",
            "\n",
            "The famous Iris database, first used by Sir R.A. Fisher. The dataset is taken\n",
            "from Fisher's paper. Note that it's the same as in R, but not as in the UCI\n",
            "Machine Learning Repository, which has two wrong data points.\n",
            "\n",
            "This is perhaps the best known database to be found in the\n",
            "pattern recognition literature.  Fisher's paper is a classic in the field and\n",
            "is referenced frequently to this day.  (See Duda & Hart, for example.)  The\n",
            "data set contains 3 classes of 50 instances each, where each class refers to a\n",
            "type of iris plant.  One class is linearly separable from the other 2; the\n",
            "latter are NOT linearly separable from each other.\n",
            "\n",
            ".. topic:: References\n",
            "\n",
            "   - Fisher, R.A. \"The use of multiple measurements in taxonomic problems\"\n",
            "     Annual Eugenics, 7, Part II, 179-188 (1936); also in \"Contributions to\n",
            "     Mathematical Statistics\" (John Wiley, NY, 1950).\n",
            "   - Duda, R.O., & Hart, P.E. (1973) Pattern Classification and Scene Analysis.\n",
            "     (Q327.D83) John Wiley & Sons.  ISBN 0-471-22361-1.  See page 218.\n",
            "   - Dasarathy, B.V. (1980) \"Nosing Around the Neighborhood: A New System\n",
            "     Structure and Classification Rule for Recognition in Partially Exposed\n",
            "     Environments\".  IEEE Transactions on Pattern Analysis and Machine\n",
            "     Intelligence, Vol. PAMI-2, No. 1, 67-71.\n",
            "   - Gates, G.W. (1972) \"The Reduced Nearest Neighbor Rule\".  IEEE Transactions\n",
            "     on Information Theory, May 1972, 431-433.\n",
            "   - See also: 1988 MLC Proceedings, 54-64.  Cheeseman et al\"s AUTOCLASS II\n",
            "     conceptual clustering system finds 3 classes in the data.\n",
            "   - Many, many more ...\n"
          ],
          "name": "stdout"
        }
      ]
    }
  ]
}